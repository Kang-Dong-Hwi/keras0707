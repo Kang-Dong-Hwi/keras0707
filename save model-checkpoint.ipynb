{
 "cells": [
  {
   "cell_type": "code",
   "execution_count": 11,
   "metadata": {},
   "outputs": [
    {
     "name": "stdout",
     "output_type": "stream",
     "text": [
      "Epoch 1/5\n",
      "1313/1313 [==============================] - 2s 2ms/step - loss: 0.7951 - accuracy: 0.7986 - val_loss: 0.4247 - val_accuracy: 0.8871\n",
      "Epoch 2/5\n",
      "1313/1313 [==============================] - 2s 2ms/step - loss: 0.3887 - accuracy: 0.8938 - val_loss: 0.3466 - val_accuracy: 0.9032\n",
      "Epoch 3/5\n",
      "1313/1313 [==============================] - 2s 2ms/step - loss: 0.3328 - accuracy: 0.9066 - val_loss: 0.3125 - val_accuracy: 0.9133\n",
      "Epoch 4/5\n",
      "1313/1313 [==============================] - 2s 2ms/step - loss: 0.3016 - accuracy: 0.9142 - val_loss: 0.2901 - val_accuracy: 0.9179\n",
      "Epoch 5/5\n",
      "1313/1313 [==============================] - 2s 2ms/step - loss: 0.2787 - accuracy: 0.9215 - val_loss: 0.2719 - val_accuracy: 0.9236\n",
      "313/313 [==============================] - 0s 944us/step - loss: 0.2605 - accuracy: 0.9266\n",
      "\n",
      "loss_and_metrics : [0.2605491876602173, 0.9265999794006348]\n"
     ]
    },
    {
     "data": {
      "text/plain": [
       "\"\\nxhat_idx = np.random.choice(x_test.shape[0],5)\\nxhat = x_test[xhat_idx]\\nyhat = model.predict_classes(xhat)\\n\\nfor i in range(5):\\n    print('True : ' + str(argmax(y_test[xhat_idx[i]])) + ', Predict : ' + str(yhat[i]))\\n\""
      ]
     },
     "execution_count": 11,
     "metadata": {},
     "output_type": "execute_result"
    }
   ],
   "source": [
    "from keras.utils import np_utils\n",
    "from keras.datasets import mnist\n",
    "from keras.models import Sequential\n",
    "from keras.layers import Dense, Activation\n",
    "import numpy as np\n",
    "from numpy import argmax\n",
    "\n",
    "\n",
    "X_TRAIN_DATA = 6*10**4\n",
    "X_TEST_DATA = 1*10**4\n",
    "\n",
    "\n",
    "(x_train, y_train), (x_test, y_test) = mnist.load_data()\n",
    "\n",
    "x_train = x_train.reshape(X_TRAIN_DATA, 28*28).astype('float32') / 255.0\n",
    "x_test = x_test.reshape(Y_TRAIN_DATA, 28*28).astype('float32') / 255.0\n",
    "\n",
    "#one-hot encoding\n",
    "y_train = np_utils.to_categorical(y_train)\n",
    "y_test = np_utils.to_categorical(y_test)\n",
    "\n",
    "\n",
    "x_val = x_train[ int(X_TRAIN_DATA * 0.7): ]\n",
    "x_train = x_train[ : int(X_TRAIN_DATA * 0.7) ]\n",
    "y_val = y_train[ int(X_TRAIN_DATA * 0.7): ]\n",
    "y_train = y_train[ : int(X_TRAIN_DATA * 0.7) ]\n",
    "\n",
    "\n",
    "model = Sequential()\n",
    "model.add(Dense(units=64, input_dim=28*28, activation='relu'))\n",
    "model.add(Dense(units=10, activation='softmax'))\n",
    "\n",
    "model.compile(loss='categorical_crossentropy', optimizer='sgd', metrics=['accuracy'])\n",
    "\n",
    "model.fit(x_train, y_train, epochs=5, batch_size=32, validation_data=(x_val, y_val))\n",
    "\n",
    "loss_and_metrics = model.evaluate(x_test, y_test, batch_size=32)\n",
    "print('')\n",
    "print('loss_and_metrics : ' + str(loss_and_metrics))\n",
    "\n",
    "\n",
    "from keras.models import load_model\n",
    "model.save('mnist_mlp_model.h5')\n",
    "\n",
    "'''\n",
    "xhat_idx = np.random.choice(x_test.shape[0],5)\n",
    "xhat = x_test[xhat_idx]\n",
    "yhat = model.predict_classes(xhat)\n",
    "\n",
    "for i in range(5):\n",
    "    print('True : ' + str(argmax(y_test[xhat_idx[i]])) + ', Predict : ' + str(yhat[i]))\n",
    "'''\n"
   ]
  },
  {
   "cell_type": "code",
   "execution_count": null,
   "metadata": {},
   "outputs": [],
   "source": []
  }
 ],
 "metadata": {
  "kernelspec": {
   "display_name": "Python 3",
   "language": "python",
   "name": "python3"
  },
  "language_info": {
   "codemirror_mode": {
    "name": "ipython",
    "version": 3
   },
   "file_extension": ".py",
   "mimetype": "text/x-python",
   "name": "python",
   "nbconvert_exporter": "python",
   "pygments_lexer": "ipython3",
   "version": "3.7.7"
  }
 },
 "nbformat": 4,
 "nbformat_minor": 4
}
